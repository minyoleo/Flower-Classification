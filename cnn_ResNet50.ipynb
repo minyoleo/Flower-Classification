{
 "cells": [
  {
   "cell_type": "code",
   "execution_count": 1,
   "metadata": {},
   "outputs": [],
   "source": [
    "import tensorflow as tf\n",
    "import numpy as np\n",
    "import random\n",
    "import os\n",
    "import glob\n",
    "from keras.preprocessing.image import img_to_array, load_img\n",
    "from PIL import Image"
   ]
  },
  {
   "cell_type": "code",
   "execution_count": 2,
   "metadata": {},
   "outputs": [],
   "source": [
    "dict_labels = {\"daisy\":0, \"dandelion\":1, \"rose\":2, \"sunflower\":3, \"tulip\":4}\n",
    "size = (224, 224)"
   ]
  },
  {
   "cell_type": "code",
   "execution_count": 3,
   "metadata": {},
   "outputs": [],
   "source": [
    "for folders in glob.glob(\"/Users/username/Documents/data/train/*\"):\n",
    "    print(folders)\n",
    "    images = []\n",
    "    labels_hot = []\n",
    "    labels = []\n",
    "     \n",
    "    for filename in os.listdir(folders):\n",
    "        label = os.path.basename(folders)\n",
    "        className = np.asarray(label)\n",
    "        \n",
    "        img = load_img(os.path.join(folders,filename))\n",
    "        img = img.resize(size,Image.BILINEAR)\n",
    "\n",
    "        if img is not None:\n",
    "            if label is not None:\n",
    "                labels.append(className)\n",
    "                labels_hot.append(dict_labels[label])\n",
    "            x=img_to_array(img)\n",
    "            images.append(x)\n",
    "        \n",
    "    images = np.array(images)/255.    \n",
    "    labels_hot = np.array(labels_hot)\n",
    "    print(\"images.shape={}, labels_hot.shape=={}\".format(images.shape, labels_hot.shape))    \n",
    "    imagesavepath='train_dataset/'\n",
    "    if not os.path.exists(imagesavepath):\n",
    "        os.makedirs(imagesavepath)\n",
    "    np.save(imagesavepath+'{}_images.npy'.format(label),images)    \n",
    "    np.save(imagesavepath+'{}_label.npy'.format(label),labels)    \n",
    "    np.save(imagesavepath+'{}_labels_hot.npy'.format(label),labels_hot)\n",
    "    print('{} files has been saved.'.format(label))"
   ]
  },
  {
   "cell_type": "code",
   "execution_count": 4,
   "metadata": {},
   "outputs": [],
   "source": [
    "import csv\n",
    "mapping_table={}\n",
    "with open('mapping_table.csv', 'r', encoding=\"utf8\", errors='ignore', newline = '') as csvname:\n",
    "    rows = csv.reader(csvname)\n",
    "\n",
    "    for row in rows:\n",
    "        mapping_table[row[0]]=row[1]"
   ]
  },
  {
   "cell_type": "code",
   "execution_count": 5,
   "metadata": {},
   "outputs": [],
   "source": [
    "folder = \"/Users/username/Documents/data/test/\"\n",
    "images = []\n",
    "    \n",
    "for n in range(1,434):\n",
    "    img = load_img(os.path.join(folder,mapping_table[str(n)]))\n",
    "    img = img.resize(size,Image.BILINEAR)\n",
    "\n",
    "    x=img_to_array(img)\n",
    "    images.append(x)\n",
    "\n",
    "images = np.array(images)/255.    \n",
    "\n",
    "print(\"images.shape={}\".format(images.shape))    \n",
    "imagesavepath='test_dataset/'\n",
    "if not os.path.exists(imagesavepath):\n",
    "    os.makedirs(imagesavepath)\n",
    "np.save(imagesavepath+'test_images.npy',images)"
   ]
  },
  {
   "cell_type": "code",
   "execution_count": 6,
   "metadata": {},
   "outputs": [],
   "source": [
    "folder = \"/Users/username/Documents/train_dataset\"\n",
    "filename = [\"dandelion\", \"rose\", \"sunflower\", \"tulip\"]\n",
    "train_images = np.load(os.path.join(folder,\"daisy_images.npy\"))\n",
    "train_labels = np.load(os.path.join(folder,\"daisy_labels_hot.npy\"))\n",
    "    \n",
    "for name in filename:\n",
    "    images = np.load(os.path.join(folder,name+\"_images.npy\"))\n",
    "    train_images = np.append(train_images,images,axis=0)\n",
    "    \n",
    "    labels = np.load(os.path.join(folder,name+\"_labels_hot.npy\"))\n",
    "    train_labels = np.append(train_labels,labels,axis=0)"
   ]
  },
  {
   "cell_type": "code",
   "execution_count": 7,
   "metadata": {},
   "outputs": [],
   "source": [
    "from sklearn.model_selection import train_test_split\n",
    "train_images, validation_images, train_labels, validation_labels = train_test_split(train_images, train_labels, test_size=0.2, shuffle=True)"
   ]
  },
  {
   "cell_type": "code",
   "execution_count": 8,
   "metadata": {
    "colab": {
     "base_uri": "https://localhost:8080/",
     "height": 34
    },
    "colab_type": "code",
    "id": "i-hY_ChinG22",
    "outputId": "e4a88836-a39e-4f64-9395-6a97c296fc3f"
   },
   "outputs": [],
   "source": [
    "import keras\n",
    "from tensorflow.keras.models import Model, load_model\n",
    "from tensorflow.keras.layers import Input, Conv2D, MaxPooling2D, Activation, Flatten, Dense, Dropout, BatchNormalization\n",
    "from tensorflow.keras.losses import categorical_crossentropy\n",
    "from tensorflow.keras.optimizers import Adam, SGD"
   ]
  },
  {
   "cell_type": "code",
   "execution_count": 9,
   "metadata": {
    "colab": {},
    "colab_type": "code",
    "id": "El91UvxlfrMu"
   },
   "outputs": [],
   "source": [
    "from tensorflow.keras.applications.resnet50 import ResNet50\n",
    "from tensorflow.keras.preprocessing import image\n",
    "from tensorflow.keras.applications.resnet50 import preprocess_input, decode_predictions\n",
    "\n",
    "net = ResNet50(include_top=False, weights='imagenet', input_tensor=None, input_shape=(224,224,3))"
   ]
  },
  {
   "cell_type": "code",
   "execution_count": 10,
   "metadata": {
    "colab": {},
    "colab_type": "code",
    "id": "Sjkp6EyZPfU-"
   },
   "outputs": [],
   "source": [
    "x = net.output\n",
    "x = Flatten()(x)\n",
    "x = Dropout(0.5)(x)\n",
    "output_layer = Dense(5, activation='softmax', name='softmax')(x)"
   ]
  },
  {
   "cell_type": "code",
   "execution_count": 11,
   "metadata": {
    "colab": {},
    "colab_type": "code",
    "id": "fW0In9-DPw3C"
   },
   "outputs": [],
   "source": [
    "net_final = Model(inputs=net.input, outputs=output_layer)\n",
    "for layer in net_final.layers:\n",
    "    layer.trainable = True"
   ]
  },
  {
   "cell_type": "code",
   "execution_count": 12,
   "metadata": {
    "colab": {},
    "colab_type": "code",
    "id": "KpS6M9dJQNE3"
   },
   "outputs": [],
   "source": [
    "net_final.compile(optimizer=SGD(lr=5e-3),loss='sparse_categorical_crossentropy',metrics=['accuracy'])"
   ]
  },
  {
   "cell_type": "code",
   "execution_count": 13,
   "metadata": {
    "colab": {},
    "colab_type": "code",
    "id": "czkOykCmoYAl"
   },
   "outputs": [],
   "source": [
    "from keras.preprocessing.image import ImageDataGenerator\n",
    "datagen = ImageDataGenerator(rotation_range=50, width_shift_range=0.5, height_shift_range=0.5,\n",
    "                             shear_range=0.5, zoom_range=0.5, channel_shift_range=0.5, horizontal_flip=True, fill_mode='nearest')"
   ]
  },
  {
   "cell_type": "code",
   "execution_count": 14,
   "metadata": {
    "colab": {},
    "colab_type": "code",
    "id": "TKmxRIaxjKqX"
   },
   "outputs": [],
   "source": [
    "best_model_filepath = './best_model.h5'\n",
    "earlyStopping = tf.keras.callbacks.EarlyStopping(monitor='val_loss', patience=10, verbose=1, mode='auto')\n",
    "saveBestModel = tf.keras.callbacks.ModelCheckpoint(best_model_filepath, monitor='val_loss', verbose=1, save_best_only=True, save_weights_only=False, mode='auto')"
   ]
  },
  {
   "cell_type": "code",
   "execution_count": 15,
   "metadata": {
    "colab": {},
    "colab_type": "code",
    "id": "yGYnVlCqlSXq"
   },
   "outputs": [],
   "source": [
    "batch_size=32\n",
    "epochs=100\n",
    "\n",
    "datagen.fit(train_images)\n",
    "net_final.fit_generator(datagen.flow(train_images, train_labels, batch_size=batch_size),\n",
    "                        steps_per_epoch=len(train_images)/batch_size, epochs=epochs, verbose=1, validation_data=(validation_images, validation_labels), callbacks=[earlyStopping, saveBestModel])"
   ]
  },
  {
   "cell_type": "code",
   "execution_count": 16,
   "metadata": {
    "colab": {},
    "colab_type": "code",
    "id": "NgPRDZsXnq8J"
   },
   "outputs": [],
   "source": [
    "model = load_model('best_model.h5')"
   ]
  },
  {
   "cell_type": "code",
   "execution_count": 17,
   "metadata": {
    "colab": {},
    "colab_type": "code",
    "id": "IzGx2Zw3H6Xz"
   },
   "outputs": [],
   "source": [
    "folder = \"test_dataset\"\n",
    "test_images = np.load(os.path.join(folder,\"test_images.npy\"))"
   ]
  },
  {
   "cell_type": "code",
   "execution_count": 18,
   "metadata": {
    "colab": {},
    "colab_type": "code",
    "id": "9VDVhLbeIgRN"
   },
   "outputs": [],
   "source": [
    "predictions = model.predict(test_images)"
   ]
  },
  {
   "cell_type": "code",
   "execution_count": 19,
   "metadata": {
    "colab": {},
    "colab_type": "code",
    "id": "wgia7YtPI2q2"
   },
   "outputs": [],
   "source": [
    "import csv\n",
    "\n",
    "with open('output.csv', 'w', newline='') as csvfile:\n",
    "    writer = csv.writer(csvfile)\n",
    "    writer.writerow(['Id', 'Category'])\n",
    "    \n",
    "for p in range(0,433):\n",
    "    row = []\n",
    "    row.append(p+1)\n",
    "    predict = predictions[p].tolist()\n",
    "    row.append(predict.index(max(predict)))\n",
    "    with open('output.csv', 'a', newline='') as csvfile:\n",
    "        writer = csv.writer(csvfile)\n",
    "        writer.writerow(row)"
   ]
  },
  {
   "cell_type": "code",
   "execution_count": null,
   "metadata": {
    "colab": {},
    "colab_type": "code",
    "id": "iV7MfWhmhzqv"
   },
   "outputs": [],
   "source": []
  }
 ],
 "metadata": {
  "accelerator": "GPU",
  "colab": {
   "collapsed_sections": [],
   "name": "part2_cnn.ipynb",
   "provenance": []
  },
  "kernelspec": {
   "display_name": "Python 3",
   "language": "python",
   "name": "python3"
  },
  "language_info": {
   "codemirror_mode": {
    "name": "ipython",
    "version": 3
   },
   "file_extension": ".py",
   "mimetype": "text/x-python",
   "name": "python",
   "nbconvert_exporter": "python",
   "pygments_lexer": "ipython3",
   "version": "3.7.4"
  }
 },
 "nbformat": 4,
 "nbformat_minor": 4
}
